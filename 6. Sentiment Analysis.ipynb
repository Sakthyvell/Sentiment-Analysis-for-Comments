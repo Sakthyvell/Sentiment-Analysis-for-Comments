{
 "cells": [
  {
   "cell_type": "code",
   "execution_count": 1,
   "metadata": {},
   "outputs": [],
   "source": [
    "from sklearn.feature_extraction.text import CountVectorizer\n",
    "from sklearn.naive_bayes import BernoulliNB\n",
    "from sklearn.metrics import confusion_matrix\n",
    "\n",
    "import numpy as np\n",
    "import itertools\n",
    "import matplotlib.pyplot as plt\n",
    "\n",
    "\n",
    "def get_all_data():\n",
    "    root = \"Dataset/\"\n",
    "\n",
    "    with open(root + \"imdb_labelled.txt\", \"r\") as text_file:\n",
    "        data = text_file.read().split('\\n')\n",
    "\n",
    "    with open(root + \"amazon_cells_labelled.txt\", \"r\") as text_file:\n",
    "        data += text_file.read().split('\\n')\n",
    "\n",
    "    with open(root + \"yelp_labelled.txt\", \"r\") as text_file:\n",
    "        data += text_file.read().split('\\n')\n",
    "\n",
    "    return data"
   ]
  },
  {
   "cell_type": "code",
   "execution_count": 2,
   "metadata": {},
   "outputs": [],
   "source": [
    "def preprocessing_data(data):\n",
    "    processing_data = []\n",
    "    for single_data in data:\n",
    "        if len(single_data.split(\"\\t\")) == 2 and single_data.split(\"\\t\")[1] != \"\":\n",
    "            processing_data.append(single_data.split(\"\\t\"))\n",
    "\n",
    "    return processing_data\n",
    "\n",
    "\n",
    "def split_data(data):\n",
    "    total = len(data)\n",
    "    training_ratio = 0.75\n",
    "    training_data = []\n",
    "    evaluation_data = []\n",
    "\n",
    "    for index in range(0, total):\n",
    "        if index < total * training_ratio:\n",
    "            training_data.append(data[index])\n",
    "        else:\n",
    "            evaluation_data.append(data[index])\n",
    "\n",
    "    return training_data, evaluation_data\n",
    "\n",
    "\n",
    "def preprocessing_step():\n",
    "    data = get_all_data()\n",
    "    processing_data = preprocessing_data(data)\n",
    "\n",
    "    return split_data(processing_data)\n",
    "\n",
    "\n",
    "def training_step(data, vectorizer):\n",
    "    training_text = [data[0] for data in data]\n",
    "    training_result = [data[1] for data in data]\n",
    "\n",
    "    training_text = vectorizer.fit_transform(training_text)\n",
    "\n",
    "    return BernoulliNB().fit(training_text, training_result)\n",
    "\n",
    "\n",
    "def analyse_text(classifier, vectorizer, text):\n",
    "    return text, classifier.predict(vectorizer.transform([text]))\n",
    "\n",
    "\n",
    "def print_result(result):\n",
    "    text, analysis_result = result\n",
    "    print_text = \"Positive\" if analysis_result[0] == '1' else \"Negative\"\n",
    "    print(text, \":\", print_text)\n"
   ]
  },
  {
   "cell_type": "code",
   "execution_count": 3,
   "metadata": {},
   "outputs": [
    {
     "name": "stdout",
     "output_type": "stream",
     "text": [
      "This product is good : Positive\n"
     ]
    }
   ],
   "source": [
    "training_data, evaluation_data = preprocessing_step()\n",
    "vectorizer = CountVectorizer(binary = 'true')\n",
    "classifier = training_step(training_data, vectorizer)\n",
    "print_result(analyse_text(classifier,vectorizer, \"This product is good\"))"
   ]
  },
  {
   "cell_type": "code",
   "execution_count": null,
   "metadata": {},
   "outputs": [],
   "source": []
  }
 ],
 "metadata": {
  "kernelspec": {
   "display_name": "Python 3",
   "language": "python",
   "name": "python3"
  },
  "language_info": {
   "codemirror_mode": {
    "name": "ipython",
    "version": 3
   },
   "file_extension": ".py",
   "mimetype": "text/x-python",
   "name": "python",
   "nbconvert_exporter": "python",
   "pygments_lexer": "ipython3",
   "version": "3.7.4"
  }
 },
 "nbformat": 4,
 "nbformat_minor": 2
}
